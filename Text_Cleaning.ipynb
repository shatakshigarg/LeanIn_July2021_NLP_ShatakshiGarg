{
  "nbformat": 4,
  "nbformat_minor": 0,
  "metadata": {
    "colab": {
      "name": "Text_Cleaning.ipynb",
      "provenance": [],
      "collapsed_sections": [],
      "include_colab_link": true
    },
    "kernelspec": {
      "name": "python3",
      "display_name": "Python 3"
    }
  },
  "cells": [
    {
      "cell_type": "markdown",
      "metadata": {
        "id": "view-in-github",
        "colab_type": "text"
      },
      "source": [
        "<a href=\"https://colab.research.google.com/github/shatakshigarg/LeanIn_July2021_NLP_ShatakshiGarg/blob/main/Text_Cleaning.ipynb\" target=\"_parent\"><img src=\"https://colab.research.google.com/assets/colab-badge.svg\" alt=\"Open In Colab\"/></a>"
      ]
    },
    {
      "cell_type": "code",
      "metadata": {
        "colab": {
          "base_uri": "https://localhost:8080/"
        },
        "id": "KAgQjpNCrR8k",
        "outputId": "459272d5-3eca-4827-9d7a-6a3f9f9b7886"
      },
      "source": [
        "import re\n",
        "import matplotlib\n",
        "import numpy as np\n",
        "import matplotlib.pyplot as plt\n",
        "import pandas as pd\n",
        "import string\n",
        "\n",
        "from nltk.corpus import stopwords\n",
        "import nltk\n",
        "import numba\n",
        "from numba import jit\n",
        "\n",
        "nltk.download('stopwords')\n",
        "nltk.download('punkt')\n",
        "nltk.download('averaged_perceptron_tagger')"
      ],
      "execution_count": null,
      "outputs": [
        {
          "output_type": "stream",
          "text": [
            "[nltk_data] Downloading package stopwords to /root/nltk_data...\n",
            "[nltk_data]   Unzipping corpora/stopwords.zip.\n",
            "[nltk_data] Downloading package punkt to /root/nltk_data...\n",
            "[nltk_data]   Unzipping tokenizers/punkt.zip.\n",
            "[nltk_data] Downloading package averaged_perceptron_tagger to\n",
            "[nltk_data]     /root/nltk_data...\n",
            "[nltk_data]   Unzipping taggers/averaged_perceptron_tagger.zip.\n"
          ],
          "name": "stdout"
        },
        {
          "output_type": "execute_result",
          "data": {
            "text/plain": [
              "True"
            ]
          },
          "metadata": {
            "tags": []
          },
          "execution_count": 4
        }
      ]
    },
    {
      "cell_type": "code",
      "metadata": {
        "id": "JfhI6aXE1PAV",
        "colab": {
          "base_uri": "https://localhost:8080/"
        },
        "outputId": "ffe9486f-65a3-44f1-acec-7d9c18c25bc7"
      },
      "source": [
        "!unzip english_dataset.zip\n",
        "!rm -rf english_dataset.zip"
      ],
      "execution_count": null,
      "outputs": [
        {
          "output_type": "stream",
          "text": [
            "unzip:  cannot find or open english_dataset.zip, english_dataset.zip.zip or english_dataset.zip.ZIP.\n"
          ],
          "name": "stdout"
        }
      ]
    },
    {
      "cell_type": "code",
      "metadata": {
        "colab": {
          "base_uri": "https://localhost:8080/",
          "height": 665
        },
        "id": "msZdwCe7bU26",
        "outputId": "e4abf529-a758-4b5d-f327-336fecccd942"
      },
      "source": [
        "dff=pd.read_csv(\"/content/english_dataset/english_dataset.tsv\", delimiter=\"\\t\")\n",
        "dff.head(20)"
      ],
      "execution_count": null,
      "outputs": [
        {
          "output_type": "execute_result",
          "data": {
            "text/html": [
              "<div>\n",
              "<style scoped>\n",
              "    .dataframe tbody tr th:only-of-type {\n",
              "        vertical-align: middle;\n",
              "    }\n",
              "\n",
              "    .dataframe tbody tr th {\n",
              "        vertical-align: top;\n",
              "    }\n",
              "\n",
              "    .dataframe thead th {\n",
              "        text-align: right;\n",
              "    }\n",
              "</style>\n",
              "<table border=\"1\" class=\"dataframe\">\n",
              "  <thead>\n",
              "    <tr style=\"text-align: right;\">\n",
              "      <th></th>\n",
              "      <th>text_id</th>\n",
              "      <th>text</th>\n",
              "      <th>task_1</th>\n",
              "      <th>task_2</th>\n",
              "      <th>task_3</th>\n",
              "    </tr>\n",
              "  </thead>\n",
              "  <tbody>\n",
              "    <tr>\n",
              "      <th>0</th>\n",
              "      <td>hasoc_en_1</td>\n",
              "      <td>#DhoniKeepsTheGlove | WATCH: Sports Minister K...</td>\n",
              "      <td>NOT</td>\n",
              "      <td>NONE</td>\n",
              "      <td>NONE</td>\n",
              "    </tr>\n",
              "    <tr>\n",
              "      <th>1</th>\n",
              "      <td>hasoc_en_2</td>\n",
              "      <td>@politico No. We should remember very clearly ...</td>\n",
              "      <td>HOF</td>\n",
              "      <td>HATE</td>\n",
              "      <td>TIN</td>\n",
              "    </tr>\n",
              "    <tr>\n",
              "      <th>2</th>\n",
              "      <td>hasoc_en_3</td>\n",
              "      <td>@cricketworldcup Guess who would be the winner...</td>\n",
              "      <td>NOT</td>\n",
              "      <td>NONE</td>\n",
              "      <td>NONE</td>\n",
              "    </tr>\n",
              "    <tr>\n",
              "      <th>3</th>\n",
              "      <td>hasoc_en_4</td>\n",
              "      <td>Corbyn is too politically intellectual for #Bo...</td>\n",
              "      <td>NOT</td>\n",
              "      <td>NONE</td>\n",
              "      <td>NONE</td>\n",
              "    </tr>\n",
              "    <tr>\n",
              "      <th>4</th>\n",
              "      <td>hasoc_en_5</td>\n",
              "      <td>All the best to #TeamIndia for another swimmin...</td>\n",
              "      <td>NOT</td>\n",
              "      <td>NONE</td>\n",
              "      <td>NONE</td>\n",
              "    </tr>\n",
              "    <tr>\n",
              "      <th>5</th>\n",
              "      <td>hasoc_en_6</td>\n",
              "      <td>@kellymiller513 @TheRealOJ32 I hope you rememb...</td>\n",
              "      <td>NOT</td>\n",
              "      <td>NONE</td>\n",
              "      <td>NONE</td>\n",
              "    </tr>\n",
              "    <tr>\n",
              "      <th>6</th>\n",
              "      <td>hasoc_en_7</td>\n",
              "      <td>@ICC Latest design of #WC2019 trophy. #CWC2019...</td>\n",
              "      <td>NOT</td>\n",
              "      <td>NONE</td>\n",
              "      <td>NONE</td>\n",
              "    </tr>\n",
              "    <tr>\n",
              "      <th>7</th>\n",
              "      <td>hasoc_en_8</td>\n",
              "      <td>#ADOS #trendingnow #blacklivesmatter #justice ...</td>\n",
              "      <td>HOF</td>\n",
              "      <td>PRFN</td>\n",
              "      <td>TIN</td>\n",
              "    </tr>\n",
              "    <tr>\n",
              "      <th>8</th>\n",
              "      <td>hasoc_en_9</td>\n",
              "      <td>Thanks for your support! Wow 600k. Graffiti ha...</td>\n",
              "      <td>NOT</td>\n",
              "      <td>NONE</td>\n",
              "      <td>NONE</td>\n",
              "    </tr>\n",
              "    <tr>\n",
              "      <th>9</th>\n",
              "      <td>hasoc_en_10</td>\n",
              "      <td>By wearing the #BalidaanBadge over his gloves ...</td>\n",
              "      <td>NOT</td>\n",
              "      <td>NONE</td>\n",
              "      <td>NONE</td>\n",
              "    </tr>\n",
              "    <tr>\n",
              "      <th>10</th>\n",
              "      <td>hasoc_en_11</td>\n",
              "      <td>Mahendra Singh Dhoni's love for the Nation, Ar...</td>\n",
              "      <td>NOT</td>\n",
              "      <td>NONE</td>\n",
              "      <td>NONE</td>\n",
              "    </tr>\n",
              "    <tr>\n",
              "      <th>11</th>\n",
              "      <td>hasoc_en_12</td>\n",
              "      <td>I don’t know how much more I can take! 45 is a...</td>\n",
              "      <td>HOF</td>\n",
              "      <td>HATE</td>\n",
              "      <td>TIN</td>\n",
              "    </tr>\n",
              "    <tr>\n",
              "      <th>12</th>\n",
              "      <td>hasoc_en_13</td>\n",
              "      <td>#ShameOnICC@ICC WINNER TEAM-RAIN  ICC RUN UP T...</td>\n",
              "      <td>NOT</td>\n",
              "      <td>NONE</td>\n",
              "      <td>NONE</td>\n",
              "    </tr>\n",
              "    <tr>\n",
              "      <th>13</th>\n",
              "      <td>hasoc_en_14</td>\n",
              "      <td>@narendramodi  @pmoindia_namo  @narendramodi  ...</td>\n",
              "      <td>NOT</td>\n",
              "      <td>NONE</td>\n",
              "      <td>NONE</td>\n",
              "    </tr>\n",
              "    <tr>\n",
              "      <th>14</th>\n",
              "      <td>hasoc_en_15</td>\n",
              "      <td>ICC denies request from BCCI to allow MSD wear...</td>\n",
              "      <td>NOT</td>\n",
              "      <td>NONE</td>\n",
              "      <td>NONE</td>\n",
              "    </tr>\n",
              "    <tr>\n",
              "      <th>15</th>\n",
              "      <td>hasoc_en_16</td>\n",
              "      <td>Good work @ICC keep going just destroy the who...</td>\n",
              "      <td>HOF</td>\n",
              "      <td>PRFN</td>\n",
              "      <td>TIN</td>\n",
              "    </tr>\n",
              "    <tr>\n",
              "      <th>16</th>\n",
              "      <td>hasoc_en_17</td>\n",
              "      <td>Wow, you're full of it @MattHancock   #BorisJo...</td>\n",
              "      <td>NOT</td>\n",
              "      <td>NONE</td>\n",
              "      <td>NONE</td>\n",
              "    </tr>\n",
              "    <tr>\n",
              "      <th>17</th>\n",
              "      <td>hasoc_en_18</td>\n",
              "      <td>All Indian spectators shd hv #BalidanBadge in ...</td>\n",
              "      <td>NOT</td>\n",
              "      <td>NONE</td>\n",
              "      <td>NONE</td>\n",
              "    </tr>\n",
              "    <tr>\n",
              "      <th>18</th>\n",
              "      <td>hasoc_en_19</td>\n",
              "      <td>@ICC  @BCCI  What about Virat Kholi tattoos 😂😂...</td>\n",
              "      <td>NOT</td>\n",
              "      <td>NONE</td>\n",
              "      <td>NONE</td>\n",
              "    </tr>\n",
              "    <tr>\n",
              "      <th>19</th>\n",
              "      <td>hasoc_en_20</td>\n",
              "      <td>Which is more important?  #IndiaWithDhoni   #D...</td>\n",
              "      <td>NOT</td>\n",
              "      <td>NONE</td>\n",
              "      <td>NONE</td>\n",
              "    </tr>\n",
              "  </tbody>\n",
              "</table>\n",
              "</div>"
            ],
            "text/plain": [
              "        text_id  ... task_3\n",
              "0    hasoc_en_1  ...   NONE\n",
              "1    hasoc_en_2  ...    TIN\n",
              "2    hasoc_en_3  ...   NONE\n",
              "3    hasoc_en_4  ...   NONE\n",
              "4    hasoc_en_5  ...   NONE\n",
              "5    hasoc_en_6  ...   NONE\n",
              "6    hasoc_en_7  ...   NONE\n",
              "7    hasoc_en_8  ...    TIN\n",
              "8    hasoc_en_9  ...   NONE\n",
              "9   hasoc_en_10  ...   NONE\n",
              "10  hasoc_en_11  ...   NONE\n",
              "11  hasoc_en_12  ...    TIN\n",
              "12  hasoc_en_13  ...   NONE\n",
              "13  hasoc_en_14  ...   NONE\n",
              "14  hasoc_en_15  ...   NONE\n",
              "15  hasoc_en_16  ...    TIN\n",
              "16  hasoc_en_17  ...   NONE\n",
              "17  hasoc_en_18  ...   NONE\n",
              "18  hasoc_en_19  ...   NONE\n",
              "19  hasoc_en_20  ...   NONE\n",
              "\n",
              "[20 rows x 5 columns]"
            ]
          },
          "metadata": {
            "tags": []
          },
          "execution_count": 6
        }
      ]
    },
    {
      "cell_type": "markdown",
      "metadata": {
        "id": "SgiyNUVe1kyV"
      },
      "source": [
        "## **CONVERT TEXT COLUMN TO UPPER CASE**"
      ]
    },
    {
      "cell_type": "code",
      "metadata": {
        "colab": {
          "base_uri": "https://localhost:8080/"
        },
        "id": "50sqTtd9bZrh",
        "outputId": "3313ea66-49de-4ffb-c61b-30dafbb4e064"
      },
      "source": [
        "dff['text']=dff['text'].str.upper()\n",
        "dff['text'].head(5)"
      ],
      "execution_count": null,
      "outputs": [
        {
          "output_type": "execute_result",
          "data": {
            "text/plain": [
              "0    #DHONIKEEPSTHEGLOVE | WATCH: SPORTS MINISTER K...\n",
              "1    @POLITICO NO. WE SHOULD REMEMBER VERY CLEARLY ...\n",
              "2    @CRICKETWORLDCUP GUESS WHO WOULD BE THE WINNER...\n",
              "3    CORBYN IS TOO POLITICALLY INTELLECTUAL FOR #BO...\n",
              "4    ALL THE BEST TO #TEAMINDIA FOR ANOTHER SWIMMIN...\n",
              "Name: text, dtype: object"
            ]
          },
          "metadata": {
            "tags": []
          },
          "execution_count": 7
        }
      ]
    },
    {
      "cell_type": "markdown",
      "metadata": {
        "id": "4MRGMSyL1vJn"
      },
      "source": [
        "## **CONVERT TEXT COLUMN TO LOWER CASE**"
      ]
    },
    {
      "cell_type": "code",
      "metadata": {
        "colab": {
          "base_uri": "https://localhost:8080/"
        },
        "id": "BND67yagbghe",
        "outputId": "07222202-1af6-4ec1-d2a0-dea4e4fef2f2"
      },
      "source": [
        "dff['text']=dff['text'].str.lower()\n",
        "dff['text'].head(5)"
      ],
      "execution_count": null,
      "outputs": [
        {
          "output_type": "execute_result",
          "data": {
            "text/plain": [
              "0    #dhonikeepstheglove | watch: sports minister k...\n",
              "1    @politico no. we should remember very clearly ...\n",
              "2    @cricketworldcup guess who would be the winner...\n",
              "3    corbyn is too politically intellectual for #bo...\n",
              "4    all the best to #teamindia for another swimmin...\n",
              "Name: text, dtype: object"
            ]
          },
          "metadata": {
            "tags": []
          },
          "execution_count": 8
        }
      ]
    },
    {
      "cell_type": "markdown",
      "metadata": {
        "id": "flj_s2p712bt"
      },
      "source": [
        "## **REMOVE NUMBERS FROM TEXT COLUMN**"
      ]
    },
    {
      "cell_type": "code",
      "metadata": {
        "colab": {
          "base_uri": "https://localhost:8080/"
        },
        "id": "GcdrrjMcbnjL",
        "outputId": "01d8f10f-89e1-4d20-f1e0-9b4153b5ab56"
      },
      "source": [
        "dff['text'] = dff['text'].str.replace('\\d+', '')\n",
        "dff['text'].head(20)"
      ],
      "execution_count": null,
      "outputs": [
        {
          "output_type": "execute_result",
          "data": {
            "text/plain": [
              "0     #dhonikeepstheglove | watch: sports minister k...\n",
              "1     @politico no. we should remember very clearly ...\n",
              "2     @cricketworldcup guess who would be the winner...\n",
              "3     corbyn is too politically intellectual for #bo...\n",
              "4     all the best to #teamindia for another swimmin...\n",
              "5     @kellymiller @therealoj i hope you remembered ...\n",
              "6     @icc latest design of #wc trophy. #cwc #cwc #s...\n",
              "7     #ados #trendingnow #blacklivesmatter #justice ...\n",
              "8     thanks for your support! wow k. graffiti has a...\n",
              "9     by wearing the #balidaanbadge over his gloves ...\n",
              "10    mahendra singh dhoni's love for the nation, ar...\n",
              "11    i don’t know how much more i can take!  is a c...\n",
              "12    #shameonicc@icc winner team-rain  icc run up t...\n",
              "13    @narendramodi  @pmoindia_namo  @narendramodi  ...\n",
              "14    icc denies request from bcci to allow msd wear...\n",
              "15    good work @icc keep going just destroy the who...\n",
              "16    wow, you're full of it @matthancock   #borisjo...\n",
              "17    all indian spectators shd hv #balidanbadge in ...\n",
              "18    @icc  @bcci  what about virat kholi tattoos 😂😂...\n",
              "19    which is more important?  #indiawithdhoni   #d...\n",
              "Name: text, dtype: object"
            ]
          },
          "metadata": {
            "tags": []
          },
          "execution_count": 9
        }
      ]
    },
    {
      "cell_type": "markdown",
      "metadata": {
        "id": "0gleKEs92N_-"
      },
      "source": [
        ""
      ]
    },
    {
      "cell_type": "markdown",
      "metadata": {
        "id": "xRWpYs3D2TNb"
      },
      "source": [
        "## **REMOVE MENTIONS FROM TEXT COLUMN**"
      ]
    },
    {
      "cell_type": "code",
      "metadata": {
        "colab": {
          "base_uri": "https://localhost:8080/"
        },
        "id": "wn7D5UbEbohe",
        "outputId": "37e47a27-6d3e-49a7-dac5-d70aab41062c"
      },
      "source": [
        "dff['text'] = dff['text'].str.replace('@\\S+', '')\n",
        "dff['text'].head(20)"
      ],
      "execution_count": null,
      "outputs": [
        {
          "output_type": "execute_result",
          "data": {
            "text/plain": [
              "0     #dhonikeepstheglove | watch: sports minister k...\n",
              "1      no. we should remember very clearly that #ind...\n",
              "2      guess who would be the winner of this #cwc?  ...\n",
              "3     corbyn is too politically intellectual for #bo...\n",
              "4     all the best to #teamindia for another swimmin...\n",
              "5       i hope you remembered to wipe the blood off ...\n",
              "6      latest design of #wc trophy. #cwc #cwc #shame...\n",
              "7     #ados #trendingnow #blacklivesmatter #justice ...\n",
              "8     thanks for your support! wow k. graffiti has a...\n",
              "9     by wearing the #balidaanbadge over his gloves ...\n",
              "10    mahendra singh dhoni's love for the nation, ar...\n",
              "11    i don’t know how much more i can take!  is a c...\n",
              "12    #shameonicc winner team-rain  icc run up team-...\n",
              "13                grevious assault on jr doctors in ...\n",
              "14    icc denies request from bcci to allow msd wear...\n",
              "15    good work  keep going just destroy the whole f...\n",
              "16    wow, you're full of it    #borisjohnsonshouldn...\n",
              "17    all indian spectators shd hv #balidanbadge in ...\n",
              "18        what about virat kholi tattoos 😂😂    #dhon...\n",
              "19    which is more important?  #indiawithdhoni   #d...\n",
              "Name: text, dtype: object"
            ]
          },
          "metadata": {
            "tags": []
          },
          "execution_count": 10
        }
      ]
    },
    {
      "cell_type": "markdown",
      "metadata": {
        "id": "1jTFghDY2boI"
      },
      "source": [
        "## **REMOVE URL's FROM TEXT COLUMN**"
      ]
    },
    {
      "cell_type": "code",
      "metadata": {
        "colab": {
          "base_uri": "https://localhost:8080/"
        },
        "id": "TeN0tJxqbs6V",
        "outputId": "9a278b60-8bb3-4005-d3a8-286a8068db90"
      },
      "source": [
        "dff['text'] = dff['text'].str.replace('https*\\S+', '')\n",
        "dff['text'].head(20)"
      ],
      "execution_count": null,
      "outputs": [
        {
          "output_type": "execute_result",
          "data": {
            "text/plain": [
              "0     #dhonikeepstheglove | watch: sports minister k...\n",
              "1      no. we should remember very clearly that #ind...\n",
              "2      guess who would be the winner of this #cwc?  ...\n",
              "3     corbyn is too politically intellectual for #bo...\n",
              "4     all the best to #teamindia for another swimmin...\n",
              "5       i hope you remembered to wipe the blood off ...\n",
              "6      latest design of #wc trophy. #cwc #cwc #shame...\n",
              "7     #ados #trendingnow #blacklivesmatter #justice ...\n",
              "8     thanks for your support! wow k. graffiti has a...\n",
              "9     by wearing the #balidaanbadge over his gloves ...\n",
              "10    mahendra singh dhoni's love for the nation, ar...\n",
              "11    i don’t know how much more i can take!  is a c...\n",
              "12    #shameonicc winner team-rain  icc run up team-...\n",
              "13                grevious assault on jr doctors in ...\n",
              "14    icc denies request from bcci to allow msd wear...\n",
              "15    good work  keep going just destroy the whole f...\n",
              "16    wow, you're full of it    #borisjohnsonshouldn...\n",
              "17    all indian spectators shd hv #balidanbadge in ...\n",
              "18        what about virat kholi tattoos 😂😂    #dhon...\n",
              "19    which is more important?  #indiawithdhoni   #d...\n",
              "Name: text, dtype: object"
            ]
          },
          "metadata": {
            "tags": []
          },
          "execution_count": 11
        }
      ]
    },
    {
      "cell_type": "markdown",
      "metadata": {
        "id": "TLc4p9yj2uKz"
      },
      "source": [
        "## **REMOVE HASHTAGS FROM TEXT COLUMN**"
      ]
    },
    {
      "cell_type": "code",
      "metadata": {
        "colab": {
          "base_uri": "https://localhost:8080/"
        },
        "id": "etWWiHoDbxQj",
        "outputId": "bea9916d-f847-4884-f9d7-bac975584d5b"
      },
      "source": [
        "dff['text'] = dff['text'].str.replace('#\\S+', '')\n",
        "dff['text'].head(20)"
      ],
      "execution_count": null,
      "outputs": [
        {
          "output_type": "execute_result",
          "data": {
            "text/plain": [
              "0      | watch: sports minister kiren rijiju issues ...\n",
              "1      no. we should remember very clearly that  jus...\n",
              "2      guess who would be the winner of this      te...\n",
              "3     corbyn is too politically intellectual for    ...\n",
              "4     all the best to  for another swimming competit...\n",
              "5       i hope you remembered to wipe the blood off ...\n",
              "6                         latest design of  trophy.    \n",
              "7           ‘central park five’ prosecutor elizabeth...\n",
              "8     thanks for your support! wow k. graffiti has a...\n",
              "9     by wearing the  over his gloves  has shown his...\n",
              "10    mahendra singh dhoni's love for the nation, ar...\n",
              "11    i don’t know how much more i can take!  is a c...\n",
              "12     winner team-rain  icc run up team-rain  icc m...\n",
              "13                grevious assault on jr doctors in ...\n",
              "14    icc denies request from bcci to allow msd wear...\n",
              "15    good work  keep going just destroy the whole f...\n",
              "16                      wow, you're full of it         \n",
              "17         all indian spectators shd hv  in ground,    \n",
              "18               what about virat kholi tattoos 😂😂     \n",
              "19                       which is more important?      \n",
              "Name: text, dtype: object"
            ]
          },
          "metadata": {
            "tags": []
          },
          "execution_count": 12
        }
      ]
    },
    {
      "cell_type": "markdown",
      "metadata": {
        "id": "HQnxwJsY25X8"
      },
      "source": [
        "## **REMOVE PUNCTUATION FROM TEXT COLUMN**"
      ]
    },
    {
      "cell_type": "code",
      "metadata": {
        "colab": {
          "base_uri": "https://localhost:8080/"
        },
        "id": "CHiQgZddb47O",
        "outputId": "024bc63d-24fc-4d46-b27f-c63488536650"
      },
      "source": [
        "dff['text'] = dff['text'].str.replace('[%s]' % re.escape(string.punctuation), '')\n",
        "dff['text'].head(20)"
      ],
      "execution_count": null,
      "outputs": [
        {
          "output_type": "execute_result",
          "data": {
            "text/plain": [
              "0       watch sports minister kiren rijiju issues st...\n",
              "1      no we should remember very clearly that  just...\n",
              "2      guess who would be the winner of this      te...\n",
              "3     corbyn is too politically intellectual for    ...\n",
              "4     all the best to  for another swimming competit...\n",
              "5       i hope you remembered to wipe the blood off ...\n",
              "6                          latest design of  trophy    \n",
              "7           ‘central park five’ prosecutor elizabeth...\n",
              "8     thanks for your support wow k graffiti has a m...\n",
              "9     by wearing the  over his gloves  has shown his...\n",
              "10    mahendra singh dhonis love for the nation arme...\n",
              "11    i don’t know how much more i can take  is a co...\n",
              "12     winner teamrain  icc run up teamrain  icc man...\n",
              "13                grevious assault on jr doctors in ...\n",
              "14    icc denies request from bcci to allow msd wear...\n",
              "15    good work  keep going just destroy the whole f...\n",
              "16                        wow youre full of it         \n",
              "17          all indian spectators shd hv  in ground    \n",
              "18               what about virat kholi tattoos 😂😂     \n",
              "19                        which is more important      \n",
              "Name: text, dtype: object"
            ]
          },
          "metadata": {
            "tags": []
          },
          "execution_count": 13
        }
      ]
    },
    {
      "cell_type": "markdown",
      "metadata": {
        "id": "nl7lay1E2fwe"
      },
      "source": [
        "## **REMOVE WHITESPACES FROM TEXT COLUMN**"
      ]
    },
    {
      "cell_type": "code",
      "metadata": {
        "colab": {
          "base_uri": "https://localhost:8080/"
        },
        "id": "qEBiLQBQb9CG",
        "outputId": "83e5b38f-a4c8-4891-b048-3e0d0cc61182"
      },
      "source": [
        "dff['text'] = dff['text'].str.replace('\\s{2,}', '')\n",
        "dff['text'].head(20)"
      ],
      "execution_count": null,
      "outputs": [
        {
          "output_type": "execute_result",
          "data": {
            "text/plain": [
              "0     watch sports minister kiren rijiju issues stat...\n",
              "1      no we should remember very clearly thatjust a...\n",
              "2      guess who would be the winner of thisteam who...\n",
              "3     corbyn is too politically intellectual forcant...\n",
              "4     all the best tofor another swimming competitio...\n",
              "5     i hope you remembered to wipe the blood off of...\n",
              "6                                latest design oftrophy\n",
              "7     ‘central park five’ prosecutor elizabeth leder...\n",
              "8     thanks for your support wow k graffiti has a m...\n",
              "9     by wearing theover his gloveshas shown his lov...\n",
              "10    mahendra singh dhonis love for the nation arme...\n",
              "11    i don’t know how much more i can takeis a comp...\n",
              "12     winner teamrainicc run up teamrainicc man of ...\n",
              "13    grevious assault on jr doctors in all medical ...\n",
              "14    icc denies request from bcci to allow msd wear...\n",
              "15    good workkeep going just destroy the whole fuc...\n",
              "16                                 wow youre full of it\n",
              "17                all indian spectators shd hvin ground\n",
              "18                    what about virat kholi tattoos 😂😂\n",
              "19                              which is more important\n",
              "Name: text, dtype: object"
            ]
          },
          "metadata": {
            "tags": []
          },
          "execution_count": 14
        }
      ]
    },
    {
      "cell_type": "markdown",
      "metadata": {
        "id": "RGKFM4Cs2g2A"
      },
      "source": [
        "## **REMOVE STOPWORDS FROM TEXT COLUMN**"
      ]
    },
    {
      "cell_type": "code",
      "metadata": {
        "colab": {
          "base_uri": "https://localhost:8080/"
        },
        "id": "KPpElJxub92V",
        "outputId": "47df2a54-001c-453d-9801-e049c1ae4dfe"
      },
      "source": [
        "stop_words=stopwords.words(\"english\") \n",
        "from nltk.tokenize import word_tokenize\n",
        "dff['text'] = dff['text'].apply(word_tokenize)\n",
        "dff['text'] = dff['text'].apply(lambda x: [item for item in x if item not in stop_words])\n",
        "dff['text'].head(20)"
      ],
      "execution_count": null,
      "outputs": [
        {
          "output_type": "execute_result",
          "data": {
            "text/plain": [
              "0     [watch, sports, minister, kiren, rijiju, issue...\n",
              "1      [remember, clearly, thatjust, admitted, treason]\n",
              "2     [guess, would, winner, thisteam, gets, maximum...\n",
              "3     [corbyn, politically, intellectual, forcant, w...\n",
              "4     [best, tofor, another, swimming, competition, ...\n",
              "5           [hope, remembered, wipe, blood, pic, taken]\n",
              "6                            [latest, design, oftrophy]\n",
              "7     [‘, central, park, five, ’, prosecutor, elizab...\n",
              "8     [thanks, support, wow, k, graffiti, massive, i...\n",
              "9     [wearing, theover, gloveshas, shown, love, amp...\n",
              "10    [mahendra, singh, dhonis, love, nation, armed,...\n",
              "11            [’, know, much, takeis, compulsive, liar]\n",
              "12    [winner, teamrainicc, run, teamrainicc, man, m...\n",
              "13    [grevious, assault, jr, doctors, medical, coll...\n",
              "14    [icc, denies, request, bcci, allow, msd, wear,...\n",
              "15    [good, workkeep, going, destroy, whole, fuckin...\n",
              "16                                   [wow, youre, full]\n",
              "17              [indian, spectators, shd, hvin, ground]\n",
              "18                          [virat, kholi, tattoos, 😂😂]\n",
              "19                                          [important]\n",
              "Name: text, dtype: object"
            ]
          },
          "metadata": {
            "tags": []
          },
          "execution_count": 15
        }
      ]
    }
  ]
}