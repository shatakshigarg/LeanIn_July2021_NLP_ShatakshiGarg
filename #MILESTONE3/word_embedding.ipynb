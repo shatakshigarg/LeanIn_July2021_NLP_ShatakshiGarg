{
  "nbformat": 4,
  "nbformat_minor": 0,
  "metadata": {
    "colab": {
      "name": "word_embedding.ipynb",
      "provenance": [],
      "collapsed_sections": [],
      "authorship_tag": "ABX9TyPJakX7GJY6rZub3B1DGmEQ",
      "include_colab_link": true
    },
    "kernelspec": {
      "name": "python3",
      "display_name": "Python 3"
    },
    "language_info": {
      "name": "python"
    }
  },
  "cells": [
    {
      "cell_type": "markdown",
      "metadata": {
        "id": "view-in-github",
        "colab_type": "text"
      },
      "source": [
        "<a href=\"https://colab.research.google.com/github/shatakshigarg/LeanIn_July2021_NLP_ShatakshiGarg/blob/main/word_embedding.ipynb\" target=\"_parent\"><img src=\"https://colab.research.google.com/assets/colab-badge.svg\" alt=\"Open In Colab\"/></a>"
      ]
    },
    {
      "cell_type": "code",
      "metadata": {
        "colab": {
          "base_uri": "https://localhost:8080/"
        },
        "id": "ioz-SmOUeLre",
        "outputId": "7db097ea-5fbf-4d65-b5d6-d3f9cfa295f0"
      },
      "source": [
        "!wget http://mattmahoney.net/dc/text8.zip -O text8.gz\n",
        "!gzip -d text8.gz -f"
      ],
      "execution_count": 14,
      "outputs": [
        {
          "output_type": "stream",
          "text": [
            "--2021-08-19 04:42:11--  http://mattmahoney.net/dc/text8.zip\n",
            "Resolving mattmahoney.net (mattmahoney.net)... 67.195.197.24\n",
            "Connecting to mattmahoney.net (mattmahoney.net)|67.195.197.24|:80... connected.\n",
            "HTTP request sent, awaiting response... 200 OK\n",
            "Length: 31344016 (30M) [application/zip]\n",
            "Saving to: ‘text8.gz’\n",
            "\n",
            "text8.gz            100%[===================>]  29.89M  2.28MB/s    in 13s     \n",
            "\n",
            "2021-08-19 04:42:24 (2.27 MB/s) - ‘text8.gz’ saved [31344016/31344016]\n",
            "\n"
          ],
          "name": "stdout"
        }
      ]
    },
    {
      "cell_type": "code",
      "metadata": {
        "colab": {
          "base_uri": "https://localhost:8080/"
        },
        "id": "bii8EcH2e6sA",
        "outputId": "ac709b26-b69f-4db6-d369-f33a972a50f9"
      },
      "source": [
        "!pip install gensim"
      ],
      "execution_count": 15,
      "outputs": [
        {
          "output_type": "stream",
          "text": [
            "Requirement already satisfied: gensim in /usr/local/lib/python3.7/dist-packages (3.6.0)\n",
            "Requirement already satisfied: six>=1.5.0 in /usr/local/lib/python3.7/dist-packages (from gensim) (1.15.0)\n",
            "Requirement already satisfied: smart-open>=1.2.1 in /usr/local/lib/python3.7/dist-packages (from gensim) (5.1.0)\n",
            "Requirement already satisfied: scipy>=0.18.1 in /usr/local/lib/python3.7/dist-packages (from gensim) (1.4.1)\n",
            "Requirement already satisfied: numpy>=1.11.3 in /usr/local/lib/python3.7/dist-packages (from gensim) (1.19.5)\n"
          ],
          "name": "stdout"
        }
      ]
    },
    {
      "cell_type": "code",
      "metadata": {
        "id": "pH-YiU9me-BO"
      },
      "source": [
        "from gensim import utils\n",
        "\n",
        "with open('/content/text8','r') as file:\n",
        "  documents = file.readlines()\n",
        "\n",
        "class MyCorpus(object):\n",
        "    def __iter__(self): \n",
        "        for line in documents:\n",
        "            yield utils.simple_preprocess(line)"
      ],
      "execution_count": 16,
      "outputs": []
    },
    {
      "cell_type": "code",
      "metadata": {
        "id": "iHTqTMrgfC0O"
      },
      "source": [
        "import gensim.models\n",
        "sentences = MyCorpus()\n",
        "skipGramModel = gensim.models.Word2Vec(sentences=sentences,\n",
        "                                       sg = 1,\n",
        "                                       window = 5,\n",
        "                                       size=80,\n",
        "                                       min_count = 3,\n",
        "                                       workers=20,\n",
        "                                       iter = 15)"
      ],
      "execution_count": 17,
      "outputs": []
    },
    {
      "cell_type": "code",
      "metadata": {
        "colab": {
          "base_uri": "https://localhost:8080/"
        },
        "id": "y5033P-8fT1S",
        "outputId": "5df72c12-644f-4569-d6a4-4b84d91ee9f7"
      },
      "source": [
        "len(skipGramModel.wv.vocab.keys())"
      ],
      "execution_count": 18,
      "outputs": [
        {
          "output_type": "execute_result",
          "data": {
            "text/plain": [
              "99493"
            ]
          },
          "metadata": {},
          "execution_count": 18
        }
      ]
    },
    {
      "cell_type": "code",
      "metadata": {
        "colab": {
          "base_uri": "https://localhost:8080/"
        },
        "id": "XAJmwqvXfVb9",
        "outputId": "0aa30d4f-9991-4b4e-8e24-714bfc07b0ec"
      },
      "source": [
        "# get vector for a word\n",
        "skipGramModel.wv.get_vector('queen')"
      ],
      "execution_count": 19,
      "outputs": [
        {
          "output_type": "execute_result",
          "data": {
            "text/plain": [
              "array([-2.5452457e-03, -1.0397770e-03, -4.2893104e-03, -2.6539962e-03,\n",
              "        1.3713859e-03,  4.1326168e-03, -1.2197701e-03,  2.8641688e-04,\n",
              "        1.2622589e-03, -3.9591111e-04, -4.2651338e-03,  6.9554639e-04,\n",
              "        2.9285064e-03,  4.4333525e-03, -5.1959455e-03, -8.0441940e-04,\n",
              "       -1.3566558e-03, -1.8135305e-03, -8.2488119e-04,  2.4845870e-03,\n",
              "       -2.6982179e-04,  4.3829624e-03, -1.9850056e-03, -5.9199315e-03,\n",
              "       -2.1124957e-03,  2.6773666e-03, -4.9702842e-03, -5.4029012e-03,\n",
              "       -2.4710016e-03,  2.1503468e-03,  8.9217437e-04,  2.5995574e-03,\n",
              "        9.5258286e-04, -4.7868304e-03, -2.3237818e-03,  6.0459180e-03,\n",
              "        5.6219012e-03, -3.5068759e-04, -3.7276079e-03, -5.8696386e-03,\n",
              "       -4.6658907e-03, -5.9418460e-05,  4.6009221e-03,  2.4269409e-03,\n",
              "       -3.5191739e-03, -5.3640921e-03, -6.0423473e-03, -9.2785090e-04,\n",
              "       -3.0976990e-03, -8.9095515e-04,  4.1928245e-03, -3.7969472e-03,\n",
              "        2.1482040e-03,  3.6781223e-03, -3.0657765e-04,  4.6782820e-03,\n",
              "        2.9238465e-03,  3.4572538e-03, -3.7694303e-03, -4.5470134e-03,\n",
              "       -2.9641401e-03,  4.1954969e-03,  6.2344372e-03,  5.4805628e-03,\n",
              "        5.6597153e-03,  3.1449629e-03,  6.2118308e-03, -6.2124501e-03,\n",
              "        2.7781208e-03, -2.6075155e-03,  5.4690647e-03,  5.3192242e-03,\n",
              "        2.1862981e-03,  2.3978921e-03, -4.6519078e-03,  5.2417419e-04,\n",
              "       -2.9051881e-03, -3.2489430e-03,  2.4685668e-04, -4.4955374e-03],\n",
              "      dtype=float32)"
            ]
          },
          "metadata": {},
          "execution_count": 19
        }
      ]
    },
    {
      "cell_type": "code",
      "metadata": {
        "colab": {
          "base_uri": "https://localhost:8080/"
        },
        "id": "hhAsutYufbF4",
        "outputId": "38618383-0bb9-4693-d2e6-0fd610361dbf"
      },
      "source": [
        "skipGramModel.wv.most_similar('queen',topn=2)"
      ],
      "execution_count": 20,
      "outputs": [
        {
          "output_type": "execute_result",
          "data": {
            "text/plain": [
              "[('stagings', 0.5129592418670654), ('plentiful', 0.44634079933166504)]"
            ]
          },
          "metadata": {},
          "execution_count": 20
        }
      ]
    },
    {
      "cell_type": "code",
      "metadata": {
        "id": "iGACgHO1fj1A"
      },
      "source": [
        "#import gensim.downloader as api\n",
        "\n",
        "#model = api.load('word2vec-google-news-300')"
      ],
      "execution_count": 21,
      "outputs": []
    },
    {
      "cell_type": "code",
      "metadata": {
        "id": "xMYrR1u3fy_A"
      },
      "source": [
        "#model = api.load('word2vec-google-news-300')\n",
        "fileObject = open(\"/content/wordsim_similarity_goldstandard.txt\")\n",
        "model = fileObject.read()"
      ],
      "execution_count": 25,
      "outputs": []
    },
    {
      "cell_type": "code",
      "metadata": {
        "colab": {
          "base_uri": "https://localhost:8080/"
        },
        "id": "ZLH9dfWkf0Et",
        "outputId": "6dd2b036-6c5a-46de-a5b7-27c171c7f897"
      },
      "source": [
        "!pip install sklearn"
      ],
      "execution_count": 23,
      "outputs": [
        {
          "output_type": "stream",
          "text": [
            "Requirement already satisfied: sklearn in /usr/local/lib/python3.7/dist-packages (0.0)\n",
            "Requirement already satisfied: scikit-learn in /usr/local/lib/python3.7/dist-packages (from sklearn) (0.22.2.post1)\n",
            "Requirement already satisfied: numpy>=1.11.0 in /usr/local/lib/python3.7/dist-packages (from scikit-learn->sklearn) (1.19.5)\n",
            "Requirement already satisfied: joblib>=0.11 in /usr/local/lib/python3.7/dist-packages (from scikit-learn->sklearn) (1.0.1)\n",
            "Requirement already satisfied: scipy>=0.17.0 in /usr/local/lib/python3.7/dist-packages (from scikit-learn->sklearn) (1.4.1)\n"
          ],
          "name": "stdout"
        }
      ]
    },
    {
      "cell_type": "code",
      "metadata": {
        "colab": {
          "base_uri": "https://localhost:8080/",
          "height": 397
        },
        "id": "LecH2dfpf3kD",
        "outputId": "39173d17-0622-41bd-a86f-3bc7f19a3cb4"
      },
      "source": [
        "# similarity('mouse','cat',model)\n",
        "#print(\"*\"*60)from sklearn.metrics.pairwise import cosine_similarity\n",
        "from sklearn.metrics.pairwise import cosine_similarity\n",
        "\n",
        "\n",
        "def get_word_similarity(word_1,word_2,model):\n",
        "  word_1_vector = model.get_vector(word_1)\n",
        "  word_2_vector = model.get_vector(word_2)\n",
        "\n",
        "  similarity = cosine_similarity(word_1_vector.reshape(1,-1),word_2_vector.reshape(1,-1))[0][0]\n",
        "  return similarity\n",
        "\n",
        "print(\"*\"*60)\n",
        "print('Similarity between {} and {} is {}'.format('easy','easiest',get_word_similarity('easy','easiest',model)))\n",
        "print('Similarity between {} and {} is {}'.format('easy','difficult',get_word_similarity('easy','difficult',model)))\n",
        "print(\"*\"*60)\n",
        "\n",
        "print('Similarity between {} and {} is {}'.format('india','rupee',get_word_similarity('india','rupee',model)))\n",
        "print('Similarity between {} and {} is {}'.format('india','dollar',get_word_similarity('india','dollar',model)))\n",
        "print(\"*\"*60)\n",
        "\n",
        "print('Similarity between {} and {} is {}'.format('mouse','mice',get_word_similarity('mouse','mice',model)))\n",
        "print('Similarity between {} and {} is {}'.format('mouse','cat',get_word_similarity('mouse','cat',model)))\n",
        "print(\"*\"*60)"
      ],
      "execution_count": 28,
      "outputs": [
        {
          "output_type": "stream",
          "text": [
            "************************************************************\n"
          ],
          "name": "stdout"
        },
        {
          "output_type": "error",
          "ename": "AttributeError",
          "evalue": "ignored",
          "traceback": [
            "\u001b[0;31m---------------------------------------------------------------------------\u001b[0m",
            "\u001b[0;31mAttributeError\u001b[0m                            Traceback (most recent call last)",
            "\u001b[0;32m<ipython-input-28-4fe4222a4711>\u001b[0m in \u001b[0;36m<module>\u001b[0;34m()\u001b[0m\n\u001b[1;32m     12\u001b[0m \u001b[0;34m\u001b[0m\u001b[0m\n\u001b[1;32m     13\u001b[0m \u001b[0mprint\u001b[0m\u001b[0;34m(\u001b[0m\u001b[0;34m\"*\"\u001b[0m\u001b[0;34m*\u001b[0m\u001b[0;36m60\u001b[0m\u001b[0;34m)\u001b[0m\u001b[0;34m\u001b[0m\u001b[0;34m\u001b[0m\u001b[0m\n\u001b[0;32m---> 14\u001b[0;31m \u001b[0mprint\u001b[0m\u001b[0;34m(\u001b[0m\u001b[0;34m'Similarity between {} and {} is {}'\u001b[0m\u001b[0;34m.\u001b[0m\u001b[0mformat\u001b[0m\u001b[0;34m(\u001b[0m\u001b[0;34m'easy'\u001b[0m\u001b[0;34m,\u001b[0m\u001b[0;34m'easiest'\u001b[0m\u001b[0;34m,\u001b[0m\u001b[0mget_word_similarity\u001b[0m\u001b[0;34m(\u001b[0m\u001b[0;34m'easy'\u001b[0m\u001b[0;34m,\u001b[0m\u001b[0;34m'easiest'\u001b[0m\u001b[0;34m,\u001b[0m\u001b[0mmodel\u001b[0m\u001b[0;34m)\u001b[0m\u001b[0;34m)\u001b[0m\u001b[0;34m)\u001b[0m\u001b[0;34m\u001b[0m\u001b[0;34m\u001b[0m\u001b[0m\n\u001b[0m\u001b[1;32m     15\u001b[0m \u001b[0mprint\u001b[0m\u001b[0;34m(\u001b[0m\u001b[0;34m'Similarity between {} and {} is {}'\u001b[0m\u001b[0;34m.\u001b[0m\u001b[0mformat\u001b[0m\u001b[0;34m(\u001b[0m\u001b[0;34m'easy'\u001b[0m\u001b[0;34m,\u001b[0m\u001b[0;34m'difficult'\u001b[0m\u001b[0;34m,\u001b[0m\u001b[0mget_word_similarity\u001b[0m\u001b[0;34m(\u001b[0m\u001b[0;34m'easy'\u001b[0m\u001b[0;34m,\u001b[0m\u001b[0;34m'difficult'\u001b[0m\u001b[0;34m,\u001b[0m\u001b[0mmodel\u001b[0m\u001b[0;34m)\u001b[0m\u001b[0;34m)\u001b[0m\u001b[0;34m)\u001b[0m\u001b[0;34m\u001b[0m\u001b[0;34m\u001b[0m\u001b[0m\n\u001b[1;32m     16\u001b[0m \u001b[0mprint\u001b[0m\u001b[0;34m(\u001b[0m\u001b[0;34m\"*\"\u001b[0m\u001b[0;34m*\u001b[0m\u001b[0;36m60\u001b[0m\u001b[0;34m)\u001b[0m\u001b[0;34m\u001b[0m\u001b[0;34m\u001b[0m\u001b[0m\n",
            "\u001b[0;32m<ipython-input-28-4fe4222a4711>\u001b[0m in \u001b[0;36mget_word_similarity\u001b[0;34m(word_1, word_2, model)\u001b[0m\n\u001b[1;32m      5\u001b[0m \u001b[0;34m\u001b[0m\u001b[0m\n\u001b[1;32m      6\u001b[0m \u001b[0;32mdef\u001b[0m \u001b[0mget_word_similarity\u001b[0m\u001b[0;34m(\u001b[0m\u001b[0mword_1\u001b[0m\u001b[0;34m,\u001b[0m\u001b[0mword_2\u001b[0m\u001b[0;34m,\u001b[0m\u001b[0mmodel\u001b[0m\u001b[0;34m)\u001b[0m\u001b[0;34m:\u001b[0m\u001b[0;34m\u001b[0m\u001b[0;34m\u001b[0m\u001b[0m\n\u001b[0;32m----> 7\u001b[0;31m   \u001b[0mword_1_vector\u001b[0m \u001b[0;34m=\u001b[0m \u001b[0mmodel\u001b[0m\u001b[0;34m.\u001b[0m\u001b[0mget_vector\u001b[0m\u001b[0;34m(\u001b[0m\u001b[0mword_1\u001b[0m\u001b[0;34m)\u001b[0m\u001b[0;34m\u001b[0m\u001b[0;34m\u001b[0m\u001b[0m\n\u001b[0m\u001b[1;32m      8\u001b[0m   \u001b[0mword_2_vector\u001b[0m \u001b[0;34m=\u001b[0m \u001b[0mmodel\u001b[0m\u001b[0;34m.\u001b[0m\u001b[0mget_vector\u001b[0m\u001b[0;34m(\u001b[0m\u001b[0mword_2\u001b[0m\u001b[0;34m)\u001b[0m\u001b[0;34m\u001b[0m\u001b[0;34m\u001b[0m\u001b[0m\n\u001b[1;32m      9\u001b[0m \u001b[0;34m\u001b[0m\u001b[0m\n",
            "\u001b[0;31mAttributeError\u001b[0m: 'str' object has no attribute 'get_vector'"
          ]
        }
      ]
    },
    {
      "cell_type": "code",
      "metadata": {
        "id": "zyb8Z9yFf9rC"
      },
      "source": [
        ""
      ],
      "execution_count": null,
      "outputs": []
    }
  ]
}
